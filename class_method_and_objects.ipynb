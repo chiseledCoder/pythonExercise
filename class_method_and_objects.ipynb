{
 "cells": [
  {
   "cell_type": "markdown",
   "source": [
    "#### Exercise 1:\n",
    "\n",
    "1. Write a Rectangle class in Python language, allowing you to build a rectangle with length and width attributes.\n",
    "2. Create a Perimeter() method to calculate the perimeter of the rectangle and a Area() method to calculate the area of the rectangle.\n",
    "3. Create a method display() that display the length, width, perimeter and area of an object created using an instantiation on rectangle class.\n",
    "4. Create a Parallelepipede child class inheriting from the Rectangle class and with a height attribute and another Volume() method to calculate the volume of the Parallelepiped."
   ],
   "metadata": {
    "collapsed": false
   }
  },
  {
   "cell_type": "markdown",
   "source": [
    "#### Exercise 2:\n",
    "\n",
    "1. Create a Python class Person with attributes: name and age of type string.\n",
    "2. Create a display() method that displays the name and age of an object created via the Person class.\n",
    "3. Create a child class Student  which inherits from the Person class and which also has a section attribute.\n",
    "4. Create a method displayStudent() that displays the name, age and section of an object created via the Student class.\n",
    "5. Create a student object via an instantiation on the Student class and then test the displayStudent method."
   ],
   "metadata": {
    "collapsed": false
   }
  },
  {
   "cell_type": "markdown",
   "source": [
    "#### Exercise 3:\n",
    "\n",
    "1. Create a Python class called BankAccount which represents a bank account, having as attributes: accountNumber (numeric type), name (name of the account owner as string type), balance.\n",
    "2. Create a constructor with parameters: accountNumber, name, balance.\n",
    "3. Create a Deposit() method which manages the deposit actions.\n",
    "4. Create a Withdrawal() method  which manages withdrawals actions.\n",
    "5. Create an bankFees() method to apply the bank fees with a percentage of 5% of the balance account.\n",
    "6. Create a display() method to display account details.\n",
    "7. Give the complete code for the  BankAccount class."
   ],
   "metadata": {
    "collapsed": false
   }
  },
  {
   "cell_type": "code",
   "execution_count": null,
   "outputs": [],
   "source": [],
   "metadata": {
    "collapsed": false
   }
  }
 ],
 "metadata": {
  "kernelspec": {
   "display_name": "Python 3",
   "language": "python",
   "name": "python3"
  },
  "language_info": {
   "codemirror_mode": {
    "name": "ipython",
    "version": 2
   },
   "file_extension": ".py",
   "mimetype": "text/x-python",
   "name": "python",
   "nbconvert_exporter": "python",
   "pygments_lexer": "ipython2",
   "version": "2.7.6"
  }
 },
 "nbformat": 4,
 "nbformat_minor": 0
}
